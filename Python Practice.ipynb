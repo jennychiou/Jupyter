{
 "cells": [
  {
   "cell_type": "code",
   "execution_count": 23,
   "metadata": {},
   "outputs": [
    {
     "name": "stdout",
     "output_type": "stream",
     "text": [
      "a < b\n"
     ]
    }
   ],
   "source": [
    "a,b = 3,5\n",
    "if a < b :\n",
    "    print('a < b')\n",
    "else:\n",
    "    pass"
   ]
  },
  {
   "cell_type": "code",
   "execution_count": 24,
   "metadata": {},
   "outputs": [
    {
     "name": "stdout",
     "output_type": "stream",
     "text": [
      "5050\n"
     ]
    }
   ],
   "source": [
    "i = 1\n",
    "x = 0\n",
    "while i <= 100:\n",
    "    x = x + i\n",
    "    i = i + 1\n",
    "print(x)"
   ]
  },
  {
   "cell_type": "code",
   "execution_count": 25,
   "metadata": {},
   "outputs": [
    {
     "name": "stdout",
     "output_type": "stream",
     "text": [
      "7\n"
     ]
    }
   ],
   "source": [
    "s = '12350007540033046032'\n",
    "zero_count = 0\n",
    "for x in s:\n",
    "    if x == '0':\n",
    "        zero_count += 1\n",
    "print(zero_count)"
   ]
  },
  {
   "cell_type": "code",
   "execution_count": 26,
   "metadata": {},
   "outputs": [
    {
     "name": "stdout",
     "output_type": "stream",
     "text": [
      "['C', 91, 94]\n"
     ]
    }
   ],
   "source": [
    "scores = (('A',82,90),('B',33,64),('C',91,94))\n",
    "high = []\n",
    "for x,y,z in scores:\n",
    "    if y>=90 and z>=90:\n",
    "        high += [x,y,z]\n",
    "print(high)"
   ]
  },
  {
   "cell_type": "code",
   "execution_count": 27,
   "metadata": {},
   "outputs": [
    {
     "data": {
      "text/plain": [
       "6"
      ]
     },
     "execution_count": 27,
     "metadata": {},
     "output_type": "execute_result"
    }
   ],
   "source": [
    "def my_len(seq):\n",
    "    n = 0\n",
    "    for x in seq:\n",
    "        n = n + 1\n",
    "    return n\n",
    "\n",
    "seq = 'saqwed'\n",
    "my_len(seq)"
   ]
  },
  {
   "cell_type": "code",
   "execution_count": 28,
   "metadata": {},
   "outputs": [
    {
     "name": "stdout",
     "output_type": "stream",
     "text": [
      "75\n"
     ]
    }
   ],
   "source": [
    "def my_sum(numbers, initial):\n",
    "    total = initial\n",
    "    for x in numbers:\n",
    "        total = total + x\n",
    "    return total\n",
    "\n",
    "scores_minus = [-3,-5,-7,-9,-1]\n",
    "scores = my_sum(scores_minus,100)\n",
    "print(scores)"
   ]
  },
  {
   "cell_type": "code",
   "execution_count": 29,
   "metadata": {},
   "outputs": [
    {
     "name": "stdout",
     "output_type": "stream",
     "text": [
      "[120, 30, 55, 35]\n",
      "[120, 130, 55, 35]\n",
      "[120, 130, 155, 35]\n",
      "[120, 130, 155, 135]\n"
     ]
    }
   ],
   "source": [
    "list = [20,30,55,35]\n",
    "for i in range(len(list)):\n",
    "    list[i] = list[i] + 100\n",
    "    print(list)"
   ]
  },
  {
   "cell_type": "code",
   "execution_count": 30,
   "metadata": {},
   "outputs": [
    {
     "name": "stdout",
     "output_type": "stream",
     "text": [
      "25\n",
      "['False', 'None', 'True', 'and', 'as', 'assert', 'break', 'class', 'continue', 'def', 'del', 'elif', 'else', 'except', 'finally', 'for', 'from', 'global', 'if', 'import', 'in', 'is', 'lambda', 'nonlocal', 'not', 'or', 'pass', 'raise', 'return', 'try', 'while', 'with', 'yield']\n"
     ]
    }
   ],
   "source": [
    "import math as m\n",
    "import keyword as kw\n",
    "print(m.gcd(100,25))\n",
    "print(kw.kwlist)"
   ]
  },
  {
   "cell_type": "code",
   "execution_count": 13,
   "metadata": {},
   "outputs": [
    {
     "name": "stdout",
     "output_type": "stream",
     "text": [
      "輸入年份：2060\n",
      "2060 是閏年\n"
     ]
    }
   ],
   "source": [
    "# 2.1 閏年檢測\n",
    "years = int(input(\"輸入年份：\"))\n",
    "if (years % 4) == 0 and (years % 100) != 0 or (years % 400) == 0:\n",
    "    print(years,\"是閏年\")\n",
    "else:\n",
    "    print(years,\"不是閏年\")"
   ]
  },
  {
   "cell_type": "code",
   "execution_count": 21,
   "metadata": {},
   "outputs": [
    {
     "name": "stdout",
     "output_type": "stream",
     "text": [
      "1x1=1\t1x2=2\t1x3=3\t1x4=4\t1x5=5\t1x6=6\t1x7=7\t1x8=8\t1x9=9\t2x1=2\t2x2=4\t2x3=6\t2x4=8\t2x5=10\t2x6=12\t2x7=14\t2x8=16\t2x9=18\t3x1=3\t3x2=6\t3x3=9\t3x4=12\t3x5=15\t3x6=18\t3x7=21\t3x8=24\t3x9=27\t4x1=4\t4x2=8\t4x3=12\t4x4=16\t4x5=20\t4x6=24\t4x7=28\t4x8=32\t4x9=36\t5x1=5\t5x2=10\t5x3=15\t5x4=20\t5x5=25\t5x6=30\t5x7=35\t5x8=40\t5x9=45\t6x1=6\t6x2=12\t6x3=18\t6x4=24\t6x5=30\t6x6=36\t6x7=42\t6x8=48\t6x9=54\t7x1=7\t7x2=14\t7x3=21\t7x4=28\t7x5=35\t7x6=42\t7x7=49\t7x8=56\t7x9=63\t8x1=8\t8x2=16\t8x3=24\t8x4=32\t8x5=40\t8x6=48\t8x7=56\t8x8=64\t8x9=72\t9x1=9\t9x2=18\t9x3=27\t9x4=36\t9x5=45\t9x6=54\t9x7=63\t9x8=72\t9x9=81\t"
     ]
    }
   ],
   "source": [
    "# 2.2 九九乘法表\n",
    "i = 1\n",
    "j = 1\n",
    "for i in range(1,10):\n",
    "    for j in range(1,10):\n",
    "        print(i,'x',j,'=',i*j ,'\\t', sep='' ,end='')"
   ]
  },
  {
   "cell_type": "code",
   "execution_count": null,
   "metadata": {},
   "outputs": [],
   "source": [
    "import cmath\n",
    "print(cmath.sqrt(-1))"
   ]
  },
  {
   "cell_type": "code",
   "execution_count": 3,
   "metadata": {},
   "outputs": [
    {
     "name": "stdout",
     "output_type": "stream",
     "text": [
      "輸入數字1：6\n",
      "輸入數字2：2\n",
      "輸入數字3：9\n",
      "6 2 9 為三數\n",
      "6 9 為三數中其中較大的兩個\n",
      "(y**x) + (z**x) = 531505\n"
     ]
    }
   ],
   "source": [
    "# 2.5 寫函式\n",
    "\n",
    "x = int(input(\"輸入數字1：\"))\n",
    "y = int(input(\"輸入數字2：\"))\n",
    "z = int(input(\"輸入數字3：\"))\n",
    "print(x,y,z,\"為三數\")\n",
    "\n",
    "\n",
    "if x>z and y>z:\n",
    "    print(x,y,\"為三數中其中較大的兩個\")\n",
    "elif x>y and z>y:\n",
    "    print(x,z,\"為三數中其中較大的兩個\")\n",
    "else:\n",
    "    print(y,z,\"為三數中其中較大的兩個\")\n",
    "\n",
    "print(\"(y**x) + (z**x)\",\"=\",(y**x)+(z**x))\n"
   ]
  },
  {
   "cell_type": "code",
   "execution_count": 4,
   "metadata": {},
   "outputs": [
    {
     "name": "stdout",
     "output_type": "stream",
     "text": [
      "輸入數字1：52\n",
      "輸入數字2：42\n",
      "52 和 42 的最小公倍數為 1092\n"
     ]
    }
   ],
   "source": [
    "# 2.6最小公倍數\n",
    "\n",
    "num1 = int(input(\"輸入數字1：\"))\n",
    "num2 = int(input(\"輸入數字2：\"))\n",
    "\n",
    "def lcm(x, y):\n",
    "   #  取得最大數\n",
    "   if x > y:\n",
    "       greater = x\n",
    "   else:\n",
    "       greater = y\n",
    " \n",
    "   while(True):\n",
    "       if((greater % x == 0) and (greater % y == 0)):\n",
    "           lcm = greater\n",
    "           break\n",
    "       greater += 1\n",
    " \n",
    "   return lcm\n",
    "\n",
    "print( num1,\"和\", num2,\"的最小公倍數為\", lcm(num1, num2))"
   ]
  },
  {
   "cell_type": "code",
   "execution_count": 13,
   "metadata": {},
   "outputs": [
    {
     "name": "stdout",
     "output_type": "stream",
     "text": [
      "0出現 1 次 / 1出現 2 次 / 2出現 1 次 / 3出現 1 次 / 4出現 1 次 / 5出現 2 次 / 9出現 3 次 / 23出現 1 次 /25出現 3 次\n",
      "3\n"
     ]
    }
   ],
   "source": [
    "list = [0,1,1,2,3,4,5,5,9,9,9,23,25,25,25]\n",
    "a = list.count(0)\n",
    "b = list.count(1)\n",
    "c = list.count(2)\n",
    "d = list.count(3)\n",
    "e = list.count(4)\n",
    "f = list.count(5)\n",
    "g = list.count(9)\n",
    "h = list.count(23)\n",
    "i = list.count(25)\n",
    "print(\"0出現\",a,\"次\",'/',\"1出現\",b,\"次\",'/',\"2出現\",c,\"次\",'/',\"3出現\",d,\"次\",'/',\"4出現\",e,\"次\",'/',\"5出現\",f,\"次\",'/',\"9出現\",g,\"次\",'/',\"23出現\",h,\"次\",'/'\"25出現\",i,\"次\")\n",
    "max_count = max(a,b,c,d,e,f,g,h,i)\n",
    "print(max_count)"
   ]
  },
  {
   "cell_type": "code",
   "execution_count": 18,
   "metadata": {},
   "outputs": [
    {
     "name": "stdout",
     "output_type": "stream",
     "text": [
      "the 0 has found 1\n",
      "the 1 has found 2\n",
      "the 2 has found 1\n",
      "the 3 has found 1\n",
      "the 4 has found 1\n",
      "the 5 has found 2\n",
      "the 9 has found 3\n",
      "the 23 has found 1\n",
      "the 25 has found 3\n",
      "元素： [0, 1, 2, 3, 4, 5, 9, 23, 25]\n",
      "個別數量： [1, 2, 1, 1, 1, 2, 3, 1, 3]\n",
      "(6, 8) (3, 3)\n",
      "[6, 8]\n",
      "答案為： 9\n"
     ]
    }
   ],
   "source": [
    "# 2.7\n",
    "mylist = [0,1,1,2,3,4,5,5,9,9,9,23,25,25,25]\n",
    "count = []\n",
    "myset = list(set(mylist)) #myset是另外一个列表，里面的内容是mylist里面的无重复 项\n",
    "a = []\n",
    "\n",
    "for item in myset:\n",
    "    num = mylist.count(item)\n",
    "    count.append(num)\n",
    "    print(\"the %d has found %d\" % (item,num))\n",
    "\n",
    "print('元素：',myset)\n",
    "print('個別數量：',count)\n",
    "\n",
    "import heapq\n",
    "data = heapq.nlargest(2, enumerate(myset), key=lambda x:x[1])\n",
    "data2 = heapq.nlargest(2, enumerate(count), key=lambda x:x[1])\n",
    "index1, value1 = zip(*data)\n",
    "index2, value2 = zip(*data2)\n",
    "print(index2,value2)\n",
    "\n",
    "# 形成陣列\n",
    "a = list(index2)\n",
    "print(a)\n",
    "\n",
    "x = myset[a[0]]\n",
    "y = myset[a[1]]\n",
    "\n",
    "# print(x)\n",
    "# print(y)\n",
    "\n",
    "if x>y:\n",
    "    print('答案為：', y)\n",
    "else:\n",
    "    print('答案為：', x)"
   ]
  }
 ],
 "metadata": {
  "kernelspec": {
   "display_name": "Python 3",
   "language": "python",
   "name": "python3"
  },
  "language_info": {
   "codemirror_mode": {
    "name": "ipython",
    "version": 3
   },
   "file_extension": ".py",
   "mimetype": "text/x-python",
   "name": "python",
   "nbconvert_exporter": "python",
   "pygments_lexer": "ipython3",
   "version": "3.6.3"
  }
 },
 "nbformat": 4,
 "nbformat_minor": 2
}
