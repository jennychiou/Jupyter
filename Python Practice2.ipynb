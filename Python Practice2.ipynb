{
 "cells": [
  {
   "cell_type": "code",
   "execution_count": 18,
   "metadata": {},
   "outputs": [
    {
     "name": "stdout",
     "output_type": "stream",
     "text": [
      "Enter a data1 (yyyy/mm/dd): 2018/1/21\n",
      "Enter a data2 (yyyy/mm/dd): 2017/12/13\n",
      "['2018', '1', '21']\n",
      "['2017', '12', '13']\n",
      "------------------------------------------------\n",
      "<class 'list'>\n",
      "第一個日期 [2018, 1, 21]\n",
      "<class 'list'>\n",
      "第二個日期 [2017, 12, 13]\n",
      "------------------------------------------------\n",
      "相差幾天： -39\n"
     ]
    }
   ],
   "source": [
    "# 2.8日期相差\n",
    "import time\n",
    "import datetime\n",
    "\n",
    "dateStr1 = input(\"Enter a data1 (yyyy/mm/dd): \")\n",
    "dateStr2 = input(\"Enter a data2 (yyyy/mm/dd): \")\n",
    "\n",
    "dateStr_s1 = dateStr1.split(\"/\")\n",
    "dateStr_s2 = dateStr2.split(\"/\")\n",
    "\n",
    "print(dateStr_s1)\n",
    "print(dateStr_s2)\n",
    "print('------------------------------------------------')\n",
    "for i in range(len(dateStr_s1)):\n",
    "    dateStr_s1[i]=int(dateStr_s1[i])\n",
    "print(type(dateStr_s1))\n",
    "print('第一個日期',dateStr_s1)\n",
    "\n",
    "for i in range(len(dateStr_s2)):\n",
    "    dateStr_s2[i]=int(dateStr_s2[i])\n",
    "print(type(dateStr_s2))\n",
    "print('第二個日期',dateStr_s2)\n",
    "\n",
    "\n",
    "#yearStr1, monthStr1, dayStr1 = dateStr1.split(\"/\")\n",
    "#yearStr2, monthStr2, dayStr2 = dateStr2.split(\"/\")\n",
    "#print(int(yearStr1, monthStr1, dayStr1))\n",
    "#print(int(yearStr2, monthStr2, dayStr2))\n",
    "print('------------------------------------------------')\n",
    "d1 = datetime.datetime(2018, 1, 21)\n",
    "d2 = datetime.datetime(2017, 12, 13)\n",
    "days = ( d2 - d1 ).days\n",
    "print('相差幾天：',days)"
   ]
  },
  {
   "cell_type": "code",
   "execution_count": 13,
   "metadata": {},
   "outputs": [
    {
     "name": "stdout",
     "output_type": "stream",
     "text": [
      "請輸入一個數字: 9\n",
      "9 的階乘為 362880\n",
      "各位數之和: 27\n"
     ]
    }
   ],
   "source": [
    "# 2.9 n!之結果每一位數和\n",
    "\n",
    "num = int(input(\"請輸入一個數字: \"))\n",
    "factorial = 1\n",
    "\n",
    "# 查看數字是負數，0 或 正數\n",
    "if num < 0:\n",
    "   print(\"負數沒有階乘\")\n",
    "elif num == 0:\n",
    "   print(\"0 的階乘為 1\")\n",
    "else:\n",
    "   for i in range(1,num + 1):\n",
    "       factorial = factorial*i\n",
    "   print(\"%d 的階乘為 %d\" %(num,factorial))\n",
    "\n",
    "print('各位數之和:',sum(map(lambda x:int(x),str(factorial))))"
   ]
  },
  {
   "cell_type": "code",
   "execution_count": 14,
   "metadata": {},
   "outputs": [
    {
     "name": "stdout",
     "output_type": "stream",
     "text": [
      "兩個list相同之元素為： [18, 19, 28, 55]\n",
      "------------------------------------------------\n",
      "兩個list相同之元素為： [18, 19, 28, 55]\n"
     ]
    }
   ],
   "source": [
    "# 2.10找出兩個list中的相同元素\n",
    "\n",
    "list1 = [25,37,13,18,19,28,3,25,55]\n",
    "list2 = [55,18,45,19,19,7,1,28,65]\n",
    "\n",
    "# 方法一\n",
    "result1 = [i for i in list1 if i in list2]\n",
    "print('兩個list相同之元素為：',result1)\n",
    "print('------------------------------------------------')\n",
    "\n",
    "# 方法二\n",
    "result2 = list(set(list1).intersection(set(list2)))\n",
    "print('兩個list相同之元素為：',result2)"
   ]
  },
  {
   "cell_type": "code",
   "execution_count": 24,
   "metadata": {},
   "outputs": [
    {
     "name": "stdout",
     "output_type": "stream",
     "text": [
      "請輸入半徑: 5\n",
      "半徑: 5\n",
      "園面積: 78.54\n"
     ]
    }
   ],
   "source": [
    "# 3.1園面積計算\n",
    "\n",
    "import math\n",
    "r = int(input(\"請輸入半徑: \"))\n",
    "\n",
    "def area(r):\n",
    "    area = (r**2) * math.pi\n",
    "    print ( \"半徑: %.0f\" % r)  \n",
    "    print ( \"圓面積: %.2f\"% area) "
   ]
  },
  {
   "cell_type": "code",
   "execution_count": 34,
   "metadata": {},
   "outputs": [
    {
     "name": "stdout",
     "output_type": "stream",
     "text": [
      "請輸入一個數字: 13580954\n",
      "各位數之和: 35\n",
      "不可被3整除\n"
     ]
    }
   ],
   "source": [
    "num = int(input(\"請輸入一個數字: \"))\n",
    "\n",
    "def function(num):\n",
    "    SUM = sum(map(lambda x:int(x),str(num)))\n",
    "    print('各位數之和:',SUM)\n",
    "    if (SUM % 3 == 0):\n",
    "        print(\"可被3整除\")\n",
    "    else:\n",
    "        print(\"不可被3整除\")\n",
    "        \n",
    "function(num)"
   ]
  },
  {
   "cell_type": "code",
   "execution_count": 3,
   "metadata": {
    "scrolled": true
   },
   "outputs": [
    {
     "name": "stdout",
     "output_type": "stream",
     "text": [
      "1\n",
      "Done!\n",
      "-----------------------------------------\n",
      "2\n",
      "1\n",
      "Done!\n",
      "-----------------------------------------\n",
      "3\n",
      "10\n",
      "5\n",
      "16\n",
      "8\n",
      "4\n",
      "2\n",
      "1\n",
      "Done!\n",
      "-----------------------------------------\n",
      "4\n",
      "2\n",
      "1\n",
      "Done!\n",
      "-----------------------------------------\n",
      "5\n",
      "16\n",
      "8\n",
      "4\n",
      "2\n",
      "1\n",
      "Done!\n",
      "-----------------------------------------\n",
      "6\n",
      "3\n",
      "10\n",
      "5\n",
      "16\n",
      "8\n",
      "4\n",
      "2\n",
      "1\n",
      "Done!\n",
      "-----------------------------------------\n",
      "7\n",
      "22\n",
      "11\n",
      "34\n",
      "17\n",
      "52\n",
      "26\n",
      "13\n",
      "40\n",
      "20\n",
      "10\n",
      "5\n",
      "16\n",
      "8\n",
      "4\n",
      "2\n",
      "1\n",
      "Done!\n",
      "-----------------------------------------\n",
      "8\n",
      "4\n",
      "2\n",
      "1\n",
      "Done!\n",
      "-----------------------------------------\n",
      "9\n",
      "28\n",
      "14\n",
      "7\n",
      "22\n",
      "11\n",
      "34\n",
      "17\n",
      "52\n",
      "26\n",
      "13\n",
      "40\n",
      "20\n",
      "10\n",
      "5\n",
      "16\n",
      "8\n",
      "4\n",
      "2\n",
      "1\n",
      "Done!\n",
      "-----------------------------------------\n",
      "10\n",
      "5\n",
      "16\n",
      "8\n",
      "4\n",
      "2\n",
      "1\n",
      "Done!\n",
      "-----------------------------------------\n"
     ]
    }
   ],
   "source": [
    "# 3.4 考拉茲猜想\n",
    "\n",
    "def collatz(num):\n",
    "    while num != 1:\n",
    "        print(num)\n",
    "        if num % 2 == 0: #偶數\n",
    "            num = int(num / 2)\n",
    "        else:   #奇數\n",
    "            num = int(3 * num + 1)\n",
    "    else:\n",
    "        print(num)\n",
    "        print('Done!')\n",
    "        print('-----------------------------------------')\n",
    "\n",
    "def main():\n",
    "    for num in range(1,11):\n",
    "        collatz(num)\n",
    "\n",
    "main()"
   ]
  },
  {
   "cell_type": "code",
   "execution_count": 48,
   "metadata": {},
   "outputs": [
    {
     "name": "stdout",
     "output_type": "stream",
     "text": [
      "2\t3\t5\t7\t11\n",
      "13\t17\t19\t23\t29\n",
      "31\t37\t41\t43\t47\n",
      "53\t59\t61\t67\t71\n",
      "73\t79\t83\t89\t97\n"
     ]
    }
   ],
   "source": [
    "# 3.5 範圍內的質數\n",
    "\n",
    "count = 0\n",
    "for i in range(1, 101):\n",
    "    for j in range(1, i):\n",
    "        if j == i // 2 and i % j == 1 or (i <= 3 and i != 1):\n",
    "            if count == 4:\n",
    "                print(i)\n",
    "                count = 0\n",
    "            else:\n",
    "                print(i, end='\\t')\n",
    "                count += 1\n",
    "            break\n",
    "        if i % j == 0 and j != 1:\n",
    "            break"
   ]
  },
  {
   "cell_type": "code",
   "execution_count": 53,
   "metadata": {},
   "outputs": [
    {
     "name": "stdout",
     "output_type": "stream",
     "text": [
      "請输入一個數字: 8\n",
      "---------------------------------\n"
     ]
    },
    {
     "data": {
      "text/plain": [
       "True"
      ]
     },
     "execution_count": 53,
     "metadata": {},
     "output_type": "execute_result"
    }
   ],
   "source": [
    "# 3.5 質數函式\n",
    "from math import sqrt\n",
    "num = int(input(\"請输入一個數字: \"))\n",
    "print(\"---------------------------------\")\n",
    "def isprime(x):\n",
    "    if x == 1:\n",
    "        return False\n",
    "    else:\n",
    "        return True\n",
    "    k = int(sqrt(x)) # 找到其平方根，减少算法時間\n",
    "    \n",
    "    for j in range(2,k+1): #将平凡根加1是為了能取到平方根那个值\n",
    "        if x % j ==0:\n",
    "            return False\n",
    "        else:\n",
    "            return True\n",
    "        \n",
    "isprime(num)"
   ]
  },
  {
   "cell_type": "code",
   "execution_count": 67,
   "metadata": {},
   "outputs": [
    {
     "name": "stdout",
     "output_type": "stream",
     "text": [
      "請输入第一個數字: 654\n",
      "請输入第二個數字: 123\n",
      "531 + 135 = 666\n"
     ]
    },
    {
     "data": {
      "text/plain": [
       "False"
      ]
     },
     "execution_count": 67,
     "metadata": {},
     "output_type": "execute_result"
    }
   ],
   "source": [
    "# 3.6 神秘的1089\n",
    "\n",
    "num1 = int(input(\"請输入第一個數字: \"))\n",
    "num2 = int(input(\"請输入第二個數字: \"))\n",
    "\n",
    "def secret(num1,num2):\n",
    "    if num1 > num2:\n",
    "        x = num1 - num2\n",
    "        y = str(x)\n",
    "        z = int(y[::-1]) # 數字反轉\n",
    "        print(x,\"+\",z,\"=\",x+z)\n",
    "        if (x + z == 1089):\n",
    "            return True\n",
    "        else:\n",
    "            return False\n",
    "    else:\n",
    "        x = -(num1 - num2)\n",
    "        y = str(x)\n",
    "        z = int(y[::-1]) # 數字反轉\n",
    "        print(x,\"+\",z,\"=\",x+z)\n",
    "        if (x + z == 1089):\n",
    "            return True\n",
    "        else:\n",
    "            return False\n",
    "        \n",
    "        \n",
    "secret(num1,num2)"
   ]
  },
  {
   "cell_type": "code",
   "execution_count": 35,
   "metadata": {},
   "outputs": [
    {
     "name": "stdout",
     "output_type": "stream",
     "text": [
      "n \t Stirling \t\t\t Factorial\n",
      "1 \t 0.9221370088957891 \t\t 1\n",
      "2 \t 1.9190043514889832 \t\t 2\n",
      "3 \t 5.836209591345864 \t\t 6\n",
      "4 \t 23.506175132893294 \t\t 24\n",
      "5 \t 118.0191679575901 \t\t 120\n",
      "6 \t 710.078184642185 \t\t 720\n",
      "7 \t 4980.395831612462 \t\t 5040\n",
      "8 \t 39902.39545265671 \t\t 40320\n",
      "9 \t 359536.87284194835 \t\t 362880\n",
      "10 \t 3598695.6187410373 \t\t 3628800\n"
     ]
    }
   ],
   "source": [
    "# 3.7斯特靈公式(stirling's approximation)\n",
    "import math\n",
    "\n",
    "n =1 \n",
    "\n",
    "def stirling(n):\n",
    "    return (math.sqrt(2*math.pi*n))*(n/math.e)**n\n",
    "\n",
    "print(\"n\",\"\\t\", \"Stirling\",\"\\t\\t\\t\",\"Factorial\")\n",
    "for x in range (1,11):\n",
    "    n  = n * x\n",
    "    print(x,\"\\t\", stirling(x), \"\\t\\t\", n)"
   ]
  },
  {
   "cell_type": "code",
   "execution_count": 13,
   "metadata": {},
   "outputs": [
    {
     "name": "stdout",
     "output_type": "stream",
     "text": [
      "數字 0 有 1 個\n",
      "數字 1 有 1 個\n",
      "數字 4 有 1 個\n",
      "數字 6 有 1 個\n",
      "數字 10 有 1 個\n",
      "數字 -4 有 1 個\n",
      "數字 -2 有 1 個\n"
     ]
    }
   ],
   "source": [
    "# 4.1串列找只出現一次的數字\n",
    "\n",
    "mylist = [9,5,5,-4,7,6,4,1,-2,0,10,9,7]\n",
    "count = []\n",
    "myset = list(set(mylist))   # myset是另外一個列表，裡面的内容是mylist裡面的無重複項\n",
    "a = []\n",
    "\n",
    "for item in myset:\n",
    "   \n",
    "    num = mylist.count(item)\n",
    "    count.append(num)\n",
    "    if (num == 1):\n",
    "        print(\"數字 %d 有 %d 個\" % (item,num))\n",
    "\n",
    "    "
   ]
  },
  {
   "cell_type": "code",
   "execution_count": 23,
   "metadata": {},
   "outputs": [
    {
     "name": "stdout",
     "output_type": "stream",
     "text": [
      "請输入等單位: 4\n",
      "[[9, 5, 5, -4], [7, 6, 4, 1], [-2, 0, 10, 9], [7]]\n"
     ]
    }
   ],
   "source": [
    "# 4.2 串列等單位切割\n",
    "\n",
    "n = int(input(\"請输入等單位: \"))\n",
    "\n",
    "mylist = [9,5,5,-4,7,6,4,1,-2,0,10,9,7]\n",
    "x = [mylist[i:i+n] for i in range(0,len(mylist),n)]\n",
    "print(x)"
   ]
  },
  {
   "cell_type": "code",
   "execution_count": 40,
   "metadata": {},
   "outputs": [
    {
     "name": "stdout",
     "output_type": "stream",
     "text": [
      "請輸入陣列大小：4\n",
      "請輸入陣列元素:1\n",
      "請輸入陣列元素:2\n",
      "請輸入陣列元素:3\n",
      "請輸入陣列元素:4\n",
      "[1, 2, 3, 4]\n",
      "[1]\n",
      "[1, 3]\n",
      "[1, 3, 5]\n",
      "[1, 3, 5, 7]\n"
     ]
    }
   ],
   "source": [
    "# 4.3 輸入陣列加上index值回傳\n",
    "size =  int(input(\"請輸入陣列大小：\"))\n",
    "list = [0]*size\n",
    "for i in range(size):\n",
    "    list[i] = int(input(\"請輸入陣列元素:\"))\n",
    "print(list)\n",
    "\n",
    "list2 = []\n",
    "\n",
    "for j in range(0,len(list)):   \n",
    "    x = list[j]\n",
    "    y = x + j\n",
    "    # print(x)\n",
    "    # print(y)\n",
    "    list2.append(y)\n",
    "    print(list2)\n",
    "    # print(\"--------------------\")\n",
    "\n"
   ]
  },
  {
   "cell_type": "code",
   "execution_count": 3,
   "metadata": {},
   "outputs": [
    {
     "name": "stdout",
     "output_type": "stream",
     "text": [
      "edcba\n"
     ]
    }
   ],
   "source": [
    "# 4.4 字串反轉\n",
    "\n",
    "s = 'abcde'\n",
    "def string_reverse(s):  \n",
    "    return s[::-1]\n",
    "print(string_reverse(s))"
   ]
  },
  {
   "cell_type": "code",
   "execution_count": 6,
   "metadata": {},
   "outputs": [
    {
     "name": "stdout",
     "output_type": "stream",
     "text": [
      "[('Amy', 28, 165, 44), ('Jessie', 32, 158, 45), ('John', 40, 174, 65)]\n"
     ]
    }
   ],
   "source": [
    "# 4.5 指定元素串列排序\n",
    "\n",
    "info = [('John',40,174,65),('Amy',28,165,44),('Jessie',32,158,45)]\n",
    "info2 = sorted(info, key=lambda x : x[1])\n",
    "print(info2)"
   ]
  },
  {
   "cell_type": "code",
   "execution_count": 8,
   "metadata": {},
   "outputs": [
    {
     "name": "stdout",
     "output_type": "stream",
     "text": [
      "[1, 2, 6, 24, 120, 720, 5040, 40320, 362880, 3628800]\n"
     ]
    }
   ],
   "source": [
    "# 4.6 累積乘積cumulative product\n",
    "\n",
    "import numpy as np\n",
    "arr = [1,2,3,4,5,6,7,8,9,10]\n",
    "c_product = [np.prod(arr[:i]) for i in range(1, len(arr) + 1)]\n",
    "print(c_product)"
   ]
  },
  {
   "cell_type": "code",
   "execution_count": 4,
   "metadata": {},
   "outputs": [
    {
     "name": "stdout",
     "output_type": "stream",
     "text": [
      "September\n"
     ]
    }
   ],
   "source": [
    "# 5.1 月份建立dictionary\n",
    "\n",
    "d = {1:\"January\",2:\"February\",3:\"March\",4:\"April\",5:\"May\",6:\"June\",7:\"July\",8:\"August\",9:\"September\",10:\"October\",11:\"November\",12:\"December\"}\n",
    "print(d[9])"
   ]
  },
  {
   "cell_type": "code",
   "execution_count": 9,
   "metadata": {},
   "outputs": [
    {
     "name": "stdout",
     "output_type": "stream",
     "text": [
      "{'Apple', 'Atmel', 'IBM', 'Google'}\n"
     ]
    }
   ],
   "source": [
    "# 5.2 字典篩選\n",
    "\n",
    "stock = {'Apple':655.95,'IBM':202.13,'HP':45.51,'Facebook':12.11,'Intel':40.51,'Atmel':305.35,'Google':535.81}\n",
    "print({x for x in stock if stock[x] > 100})"
   ]
  },
  {
   "cell_type": "code",
   "execution_count": 17,
   "metadata": {},
   "outputs": [
    {
     "name": "stdout",
     "output_type": "stream",
     "text": [
      "Do you wish to encrypt or decrypt a message?\n",
      "abc\n",
      "Enter either \"encrypt\" or \"e\" or \"decrypt\" or \"d\".\n",
      "Do you wish to encrypt or decrypt a message?\n",
      "e\n",
      "Enter your message:\n",
      "abc\n",
      "Enter the key number (1-26)\n",
      "1\n",
      "Your translated text is:\n",
      "bcd\n"
     ]
    }
   ],
   "source": [
    "# 5.2 Caesar Cipher\n",
    "\n",
    "MAX_KEY_SIZE = 26\n",
    "\n",
    "def getMode():\n",
    "    while True:\n",
    "        print('Do you wish to encrypt or decrypt a message?')\n",
    "        mode = input().lower()\n",
    "        if mode in 'encrypt e decrypt d'.split():\n",
    "            return mode\n",
    "        else:\n",
    "            print('Enter either \"encrypt\" or \"e\" or \"decrypt\" or \"d\".')\n",
    "\n",
    "def getMessage():\n",
    "    print('Enter your message:')\n",
    "    return input()\n",
    "\n",
    "def getKey():\n",
    "    key = 0\n",
    "    while True:\n",
    "        print('Enter the key number (1-%s)' % (MAX_KEY_SIZE))\n",
    "        key = int(input())\n",
    "        if (key >= 1 and key <= MAX_KEY_SIZE):\n",
    "            return key\n",
    "        \n",
    "def getTranslatedMessage(mode, message, key):\n",
    "    if mode[0] == 'd':\n",
    "        key = -key\n",
    "    translated = ''\n",
    "    for symbol in message:\n",
    "        if symbol.isalpha():\n",
    "            num = ord(symbol)\n",
    "            num += key\n",
    "            if symbol.isupper():\n",
    "                if num > ord('Z'):\n",
    "                    num -= 26\n",
    "                elif num < ord('A'):\n",
    "                    num += 26\n",
    "            elif symbol.islower():\n",
    "                if num > ord('z'):\n",
    "                    num -= 26\n",
    "                elif num < ord('a'):\n",
    "                    num += 26\n",
    "            translated += chr(num)\n",
    "        else:\n",
    "            translated += symbol\n",
    "    return translated\n",
    "\n",
    "mode = getMode()\n",
    "message = getMessage()\n",
    "key = getKey()\n",
    "\n",
    "print('Your translated text is:')\n",
    "print(getTranslatedMessage(mode, message, key))"
   ]
  },
  {
   "cell_type": "code",
   "execution_count": null,
   "metadata": {},
   "outputs": [],
   "source": []
  }
 ],
 "metadata": {
  "kernelspec": {
   "display_name": "Python 3",
   "language": "python",
   "name": "python3"
  },
  "language_info": {
   "codemirror_mode": {
    "name": "ipython",
    "version": 3
   },
   "file_extension": ".py",
   "mimetype": "text/x-python",
   "name": "python",
   "nbconvert_exporter": "python",
   "pygments_lexer": "ipython3",
   "version": "3.6.3"
  }
 },
 "nbformat": 4,
 "nbformat_minor": 2
}
